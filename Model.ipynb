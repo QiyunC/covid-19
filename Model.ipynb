{
  "nbformat": 4,
  "nbformat_minor": 0,
  "metadata": {
    "colab": {
      "name": "Model.ipynb",
      "provenance": [],
      "collapsed_sections": []
    },
    "kernelspec": {
      "name": "python3",
      "display_name": "Python 3"
    }
  },
  "cells": [
    {
      "cell_type": "code",
      "metadata": {
        "id": "2s8c6NQhrxXo",
        "colab_type": "code",
        "colab": {}
      },
      "source": [
        "import sklearn\n",
        "import numpy as np\n",
        "import pandas as pd\n",
        "import matplotlib.pyplot as plt\n",
        "import csv\n",
        "from sklearn.preprocessing import PolynomialFeatures\n",
        "from sklearn import linear_model"
      ],
      "execution_count": 0,
      "outputs": []
    },
    {
      "cell_type": "code",
      "metadata": {
        "id": "O6s8WDiVr0mu",
        "colab_type": "code",
        "colab": {
          "base_uri": "https://localhost:8080/",
          "height": 204
        },
        "outputId": "4307c0ae-d5d1-440b-b81d-14e362e19cee"
      },
      "source": [
        "data = pd.read_csv(\"key-countries-pivoted.csv\")\n",
        "data = data.reset_index()\n",
        "data.head()"
      ],
      "execution_count": 38,
      "outputs": [
        {
          "output_type": "execute_result",
          "data": {
            "text/html": [
              "<div>\n",
              "<style scoped>\n",
              "    .dataframe tbody tr th:only-of-type {\n",
              "        vertical-align: middle;\n",
              "    }\n",
              "\n",
              "    .dataframe tbody tr th {\n",
              "        vertical-align: top;\n",
              "    }\n",
              "\n",
              "    .dataframe thead th {\n",
              "        text-align: right;\n",
              "    }\n",
              "</style>\n",
              "<table border=\"1\" class=\"dataframe\">\n",
              "  <thead>\n",
              "    <tr style=\"text-align: right;\">\n",
              "      <th></th>\n",
              "      <th>index</th>\n",
              "      <th>Date</th>\n",
              "      <th>China</th>\n",
              "      <th>US</th>\n",
              "      <th>United_Kingdom</th>\n",
              "      <th>Italy</th>\n",
              "      <th>France</th>\n",
              "      <th>Germany</th>\n",
              "      <th>Spain</th>\n",
              "      <th>Iran</th>\n",
              "    </tr>\n",
              "  </thead>\n",
              "  <tbody>\n",
              "    <tr>\n",
              "      <th>0</th>\n",
              "      <td>0</td>\n",
              "      <td>2020-01-22</td>\n",
              "      <td>548</td>\n",
              "      <td>1</td>\n",
              "      <td>0</td>\n",
              "      <td>0</td>\n",
              "      <td>0</td>\n",
              "      <td>0</td>\n",
              "      <td>0</td>\n",
              "      <td>0</td>\n",
              "    </tr>\n",
              "    <tr>\n",
              "      <th>1</th>\n",
              "      <td>1</td>\n",
              "      <td>2020-01-23</td>\n",
              "      <td>643</td>\n",
              "      <td>1</td>\n",
              "      <td>0</td>\n",
              "      <td>0</td>\n",
              "      <td>0</td>\n",
              "      <td>0</td>\n",
              "      <td>0</td>\n",
              "      <td>0</td>\n",
              "    </tr>\n",
              "    <tr>\n",
              "      <th>2</th>\n",
              "      <td>2</td>\n",
              "      <td>2020-01-24</td>\n",
              "      <td>920</td>\n",
              "      <td>2</td>\n",
              "      <td>0</td>\n",
              "      <td>0</td>\n",
              "      <td>2</td>\n",
              "      <td>0</td>\n",
              "      <td>0</td>\n",
              "      <td>0</td>\n",
              "    </tr>\n",
              "    <tr>\n",
              "      <th>3</th>\n",
              "      <td>3</td>\n",
              "      <td>2020-01-25</td>\n",
              "      <td>1406</td>\n",
              "      <td>2</td>\n",
              "      <td>0</td>\n",
              "      <td>0</td>\n",
              "      <td>3</td>\n",
              "      <td>0</td>\n",
              "      <td>0</td>\n",
              "      <td>0</td>\n",
              "    </tr>\n",
              "    <tr>\n",
              "      <th>4</th>\n",
              "      <td>4</td>\n",
              "      <td>2020-01-26</td>\n",
              "      <td>2075</td>\n",
              "      <td>5</td>\n",
              "      <td>0</td>\n",
              "      <td>0</td>\n",
              "      <td>3</td>\n",
              "      <td>0</td>\n",
              "      <td>0</td>\n",
              "      <td>0</td>\n",
              "    </tr>\n",
              "  </tbody>\n",
              "</table>\n",
              "</div>"
            ],
            "text/plain": [
              "   index        Date  China  US  ...  France  Germany  Spain  Iran\n",
              "0      0  2020-01-22    548   1  ...       0        0      0     0\n",
              "1      1  2020-01-23    643   1  ...       0        0      0     0\n",
              "2      2  2020-01-24    920   2  ...       2        0      0     0\n",
              "3      3  2020-01-25   1406   2  ...       3        0      0     0\n",
              "4      4  2020-01-26   2075   5  ...       3        0      0     0\n",
              "\n",
              "[5 rows x 10 columns]"
            ]
          },
          "metadata": {
            "tags": []
          },
          "execution_count": 38
        }
      ]
    },
    {
      "cell_type": "code",
      "metadata": {
        "id": "GxZ2nTIGsiMi",
        "colab_type": "code",
        "colab": {
          "base_uri": "https://localhost:8080/",
          "height": 102
        },
        "outputId": "6373ea95-3286-4cdd-9fd0-d52ee9a8e842"
      },
      "source": [
        "X = data['index'].values\n",
        "X"
      ],
      "execution_count": 39,
      "outputs": [
        {
          "output_type": "execute_result",
          "data": {
            "text/plain": [
              "array([ 0,  1,  2,  3,  4,  5,  6,  7,  8,  9, 10, 11, 12, 13, 14, 15, 16,\n",
              "       17, 18, 19, 20, 21, 22, 23, 24, 25, 26, 27, 28, 29, 30, 31, 32, 33,\n",
              "       34, 35, 36, 37, 38, 39, 40, 41, 42, 43, 44, 45, 46, 47, 48, 49, 50,\n",
              "       51, 52, 53, 54, 55, 56, 57, 58, 59, 60, 61, 62, 63, 64, 65, 66, 67,\n",
              "       68, 69, 70, 71, 72, 73, 74, 75, 76, 77, 78, 79, 80, 81, 82, 83, 84])"
            ]
          },
          "metadata": {
            "tags": []
          },
          "execution_count": 39
        }
      ]
    },
    {
      "cell_type": "code",
      "metadata": {
        "id": "v2fQgfVstKp3",
        "colab_type": "code",
        "colab": {
          "base_uri": "https://localhost:8080/",
          "height": 187
        },
        "outputId": "70a33cee-20b3-4ea8-d551-010221077287"
      },
      "source": [
        "Y = data['China'].values\n",
        "Y"
      ],
      "execution_count": 40,
      "outputs": [
        {
          "output_type": "execute_result",
          "data": {
            "text/plain": [
              "array([  548,   643,   920,  1406,  2075,  2877,  5509,  6087,  8141,\n",
              "        9802, 11891, 16630, 19716, 23707, 27440, 30587, 34110, 36814,\n",
              "       39829, 42354, 44386, 44759, 59895, 66358, 68413, 70513, 72434,\n",
              "       74211, 74619, 75077, 75550, 77001, 77022, 77241, 77754, 78166,\n",
              "       78600, 78928, 79356, 79932, 80136, 80261, 80386, 80537, 80690,\n",
              "       80770, 80823, 80860, 80887, 80921, 80932, 80945, 80977, 81003,\n",
              "       81033, 81058, 81102, 81156, 81250, 81305, 81435, 81498, 81591,\n",
              "       81661, 81782, 81897, 81999, 82122, 82198, 82279, 82361, 82432,\n",
              "       82511, 82543, 82602, 82665, 82718, 82809, 82883, 82941, 83014,\n",
              "       83134, 83213, 83306, 83356])"
            ]
          },
          "metadata": {
            "tags": []
          },
          "execution_count": 40
        }
      ]
    },
    {
      "cell_type": "code",
      "metadata": {
        "id": "9a2lda3xuAQ1",
        "colab_type": "code",
        "colab": {
          "base_uri": "https://localhost:8080/",
          "height": 296
        },
        "outputId": "9d3f126e-feab-490e-e3c1-ea7f19ca1ee0"
      },
      "source": [
        "plt.scatter(X, Y, s = 10)\n",
        "plt.xlabel('Days since 2020-01-22')\n",
        "plt.ylabel('Number of Confirmed Cases(China)')\n",
        "plt.figure(figsize=(50, 30))\n",
        "plt.show()"
      ],
      "execution_count": 48,
      "outputs": [
        {
          "output_type": "display_data",
          "data": {
            "image/png": "[encoded data removed]",
            "text/plain": [
              "<Figure size 432x288 with 1 Axes>"
            ]
          },
          "metadata": {
            "tags": [],
            "needs_background": "light"
          }
        },
        {
          "output_type": "display_data",
          "data": {
            "text/plain": [
              "<Figure size 3600x2160 with 0 Axes>"
            ]
          },
          "metadata": {
            "tags": []
          }
        }
      ]
    },
    {
      "cell_type": "code",
      "metadata": {
        "id": "v1VEUhtYvC21",
        "colab_type": "code",
        "colab": {
          "base_uri": "https://localhost:8080/",
          "height": 34
        },
        "outputId": "4a5e4614-e93c-4b83-b88d-0c58a92d457a"
      },
      "source": [
        "X = X.reshape(-1, 1)\n",
        "poly = PolynomialFeatures(degree = 2)\n",
        "X_2 = poly.fit_transform(X)\n",
        "model = linear_model.LinearRegression()\n",
        "model = model.fit(X_2, Y)\n",
        "score = model.score(X_2, Y)\n",
        "Y_2 = model.predict(poly.transform(X))\n",
        "print(\"R2 Score for poly degree = 2 model is\", score)"
      ],
      "execution_count": 42,
      "outputs": [
        {
          "output_type": "stream",
          "text": [
            "R2 Score for poly degree = 2 model is 0.9417548808022026\n"
          ],
          "name": "stdout"
        }
      ]
    },
    {
      "cell_type": "code",
      "metadata": {
        "id": "P242Ajxx4MBa",
        "colab_type": "code",
        "colab": {
          "base_uri": "https://localhost:8080/",
          "height": 34
        },
        "outputId": "fb1e9a7b-b9e6-4b6b-ac25-478b6c8ad22f"
      },
      "source": [
        "poly = PolynomialFeatures(degree = 3)\n",
        "X_3 = poly.fit_transform(X)\n",
        "model = linear_model.LinearRegression()\n",
        "model = model.fit(X_3, Y)\n",
        "score = model.score(X_3, Y)\n",
        "Y_3 = model.predict(poly.transform(X))\n",
        "print(\"R2 Score for poly degree = 3 model is\", score)"
      ],
      "execution_count": 49,
      "outputs": [
        {
          "output_type": "stream",
          "text": [
            "R2 Score for poly degree = 3 model is 0.9628813330383547\n"
          ],
          "name": "stdout"
        }
      ]
    },
    {
      "cell_type": "code",
      "metadata": {
        "id": "xYFNjk0mxB4D",
        "colab_type": "code",
        "colab": {
          "base_uri": "https://localhost:8080/",
          "height": 349
        },
        "outputId": "151ffdbb-0f28-4aba-90b9-71d57022c1eb"
      },
      "source": [
        "plt.scatter(X, Y, color = \"red\", s = 10, label = \"groundtruth\")\n",
        "plt.plot(X, Y_2, color = \"blue\", label = \"poly degree=2 model\")\n",
        "plt.plot(X, Y_3, color = \"orange\", label = \"poly degree=3 model\")\n",
        "plt.ylim(0, 100000)\n",
        "plt.title('Prediction and Groundtruth for Total Coronavirus Cases in China')\n",
        "plt.xlabel('Days since 2020-01-22')\n",
        "plt.ylabel('Number of Confirmed Cases(China)')\n",
        "ax = plt.subplot(111)\n",
        "ax.legend()\n",
        "plt.show()\n"
      ],
      "execution_count": 52,
      "outputs": [
        {
          "output_type": "stream",
          "text": [
            "/usr/local/lib/python3.6/dist-packages/ipykernel_launcher.py:8: MatplotlibDeprecationWarning: Adding an axes using the same arguments as a previous axes currently reuses the earlier instance.  In a future version, a new instance will always be created and returned.  Meanwhile, this warning can be suppressed, and the future behavior ensured, by passing a unique label to each axes instance.\n",
            "  \n"
          ],
          "name": "stderr"
        },
        {
          "output_type": "display_data",
          "data": {
            "image/png": "[encoded data removed]",
            "text/plain": [
              "<Figure size 432x288 with 1 Axes>"
            ]
          },
          "metadata": {
            "tags": [],
            "needs_background": "light"
          }
        }
      ]
    }
  ]
}